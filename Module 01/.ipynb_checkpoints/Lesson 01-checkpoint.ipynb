{
 "cells": [
  {
   "cell_type": "markdown",
   "metadata": {},
   "source": [
    "<h1 style=\"padding-top: 24pt; padding-bottom: 6pt; line-height: 1.15; orphans: 2; widows: 2; text-align: center\">\n",
    "    <span style=\"text-decoration: none; vertical-align: baseline; font-style: normal; color: #ff5722; font-weight: 700; font-size: 18pt; font-family: Courier New,Courier,Lucida Sans Typewriter,Lucida Typewriter,monospace\">Artificial Intelligence for Trading | Udacity</span>\n",
    "</h1>\n",
    "\n",
    "\n",
    "<p style=\"padding-top: 0pt; padding-bottom: 3pt; line-height: 1.15; page-break-after: avoid; orphans: 2; widows: 2; text-align: center\">\n",
    "    <span style=\"background-color: #c9daf8; color: #8e7cc3; font-weight: 400; text-decoration: none; vertical-align: baseline; font-size: 26pt; font-family: Courier New,Courier,Lucida Sans Typewriter,Lucida Typewriter,monospace; font-style: normal\">Stock Prices</span>\n",
    "</p>"
   ]
  },
  {
   "cell_type": "markdown",
   "metadata": {},
   "source": [
    "<h2 style=\"padding-top: 6pt; line-height: 1.1500000000000001; orphans: 2; widows: 2; text-align: left\">\n",
    "    <span style=\"font-size: 14pt; font-family: 'Charm'; color: #00b050; font-weight: 700; text-decoration: none; vertical-align: baseline; font-style: normal\">Stock Prices:</span>\n",
    "</h2>\n",
    "\n",
    "<p style=\"padding-top: 6pt; padding-bottom: 6pt; line-height: 1.5; orphans: 2; widows: 2; text-align: left; margin-left: 54pt; text-indent: -18pt\">\n",
    "    <span style=\"font-size: 10pt\">&#9679;</span>\n",
    "    <span style=\"font-size: 12pt; font-family: Courier New,Courier,Lucida Sans Typewriter,Lucida Typewriter,monospace; font-weight: 400\">Shares, often called stocks or shares of stock and </span>\n",
    "    <span style=\"background-color: #cfe2f3; font-size: 12pt; font-family: Courier New,Courier,Lucida Sans Typewriter,Lucida Typewriter,monospace; font-weight: 700\">it represents fractional ownership in a company. or the equity ownership of a corporation divided up into units</span>\n",
    "    <span style=\"color: #000000; font-weight: 400; text-decoration: none; vertical-align: baseline; font-size: 12pt; font-family: Courier New,Courier,Lucida Sans Typewriter,Lucida Typewriter,monospace; font-style: normal\"> ,so that multiple people can own a percentage of a business.</span>\n",
    "</p>"
   ]
  },
  {
   "cell_type": "markdown",
   "metadata": {},
   "source": [
    "<h2 style=\"line-height: 1.1500000000000001; orphans: 2; widows: 2; text-align: left\">\n",
    "    <span style=\"font-size: 14pt; font-family: Courier New,Courier,Lucida Sans Typewriter,Lucida Typewriter,monospace; color: #00b050; font-weight: 700; text-decoration: none; vertical-align: baseline; font-style: normal\">Shareholder:</span>\n",
    "</h2>\n",
    "\n",
    "<p style=\"padding-top: 6pt; padding-bottom: 6pt; line-height: 1.5; orphans: 2; widows: 2; text-align: left; margin-left: 54pt; text-indent: -18pt\">\n",
    "            <span style=\"font-size: 10pt\">&#9679;</span>\n",
    "            <span style=\"font-family: Courier New,Courier,Lucida Sans Typewriter,Lucida Typewriter,monospace; font-size: 12pt; font-weight: 400; text-decoration: underline; text-decoration-skip-ink: none\">A shareholder,</span>\n",
    "            <span style=\"text-decoration: underline; text-decoration-skip-ink: none; font-size: 12pt; font-family: Courier New,Courier,Lucida Sans Typewriter,Lucida Typewriter,monospace; font-weight: 400\"> also referred to as a stockholder,</span>\n",
    "            <span style=\"font-family: Courier New,Courier,Lucida Sans Typewriter,Lucida Typewriter,monospace; background-color: #e6b8af\"> is a person, company, or institution that owns at least one share of a company&rsquo;s stock,</span>\n",
    "            <span style=\"background-color: #cfe2f3; font-size: 12pt; font-family: Courier New,Courier,Lucida Sans Typewriter,Lucida Typewriter,monospace; font-weight: 700\"> which is known as equity.</span>\n",
    "</p>"
   ]
  },
  {
   "cell_type": "markdown",
   "metadata": {},
   "source": [
    "<h2 style=\"line-height: 1.1500000000000001; orphans: 2; widows: 2; text-align: left\">\n",
    "    <span style=\"font-size: 14pt; font-family: Courier New,Courier,Lucida Sans Typewriter,Lucida Typewriter,monospace; color: #00b050; font-weight: 700; text-decoration: none; vertical-align: baseline; font-style: normal\">Equity:</span>\n",
    "</h2>\n",
    "\n",
    "<p style=\"font-family: Courier New,Courier,Lucida Sans Typewriter,Lucida Typewriter,monospace; padding-bottom: 6pt; line-height: 1.5; orphans: 2; widows: 2; text-align: left; margin-left: 54pt; text-indent: -18pt\">\n",
    "            <span style=\"font-size: 10pt\">&#9679;</span>\n",
    "    <span style=\"font-size: 12pt; font-weight: 400\">Equity is the value attributable to the owners of a business. </span>\n",
    "    <span style=\"font-size: 12pt; font-weight: 400; background-color: #e6b8af\">The book value of equity is calculated as the difference between </span>\n",
    "    <span style=\"font-size: 12pt; font-weight: 400; background-color: #e6b8af; color: #00b050\">assets </span>\n",
    "    <span style=\"font-size: 12pt; font-weight: 400; background-color: #e6b8af\">and </span>\n",
    "    <span style=\"font-size: 12pt; font-weight: 400; background-color: #e6b8af; color: #ff5722\">liabilities</span>\n",
    "    <span style=\"c21\"> on the company&rsquo;s balance sheet, while the market value of equity is based on the current share price (if public) or a value that is determined by investors or valuation professionals. </span>\n",
    "    <span style=\"color: #000000; font-weight: 400; text-decoration: none; vertical-align: baseline; font-size: 12pt; font-style: normal; background-color: #cfe2f3\">The account can also be called <strong>shareholders/owners/stockholders</strong> equity or net worth.</span>\n",
    "</p>"
   ]
  },
  {
   "cell_type": "markdown",
   "metadata": {},
   "source": [
    "<p style=\"font-family: Courier New,Courier,Lucida Sans Typewriter,Lucida Typewriter,monospace; font-size: 16pt; margin-left: 36pt; padding-top: 12pt; padding-bottom: 12pt; line-height: 1.15; orphans: 2; widows: 2; text-align: center\">\n",
    "    <span style=\"background-color: #674ea7; color: #efefef; font-weight: 700\">Shareholders&rsquo; Equity = </span>\n",
    "    <span style=\"background-color: #674ea7; font-weight: 700; color: #00ff00\">Total Assets </span>\n",
    "    <span style=\"background-color: #674ea7; color: #efefef; font-weight: 700\">&minus; </span>\n",
    "    <span style=\"background-color: #674ea7; font-weight: 700; text-decoration: none; vertical-align: baseline; font-style: normal; color: #ff0000\">Total Liabilities</span>\n",
    "</p>"
   ]
  },
  {
   "cell_type": "code",
   "execution_count": null,
   "metadata": {},
   "outputs": [],
   "source": []
  }
 ],
 "metadata": {
  "kernelspec": {
   "display_name": "Python 3",
   "language": "python",
   "name": "python3"
  },
  "language_info": {
   "codemirror_mode": {
    "name": "ipython",
    "version": 3
   },
   "file_extension": ".py",
   "mimetype": "text/x-python",
   "name": "python",
   "nbconvert_exporter": "python",
   "pygments_lexer": "ipython3",
   "version": "3.6.10"
  }
 },
 "nbformat": 4,
 "nbformat_minor": 4
}
