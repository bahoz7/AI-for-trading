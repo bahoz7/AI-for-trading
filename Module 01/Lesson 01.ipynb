{
 "cells": [
  {
   "cell_type": "markdown",
   "metadata": {},
   "source": [
    "<h1 style=\"padding-top: 24pt; padding-bottom: 6pt; line-height: 1.15; orphans: 2; widows: 2; text-align: center\">\n",
    "    <span style=\"text-decoration: none; vertical-align: baseline; font-style: normal; color: #ff5722; font-weight: 700; font-size: 18pt; font-family: 'Bad Script'\">Artificial Intelligence for Trading | Udacity</span>\n",
    "</h1>\n",
    "\n",
    "\n",
    "<p style=\"padding-top: 0pt; padding-bottom: 3pt; line-height: 1.15; page-break-after: avoid; orphans: 2; widows: 2; text-align: center\">\n",
    "    <span style=\"background-color: #c9daf8; color: #8e7cc3; font-weight: 400; text-decoration: none; vertical-align: baseline; font-size: 26pt; font-family: 'Vampiro One'; font-style: normal\">Stock Prices</span>\n",
    "</p>"
   ]
  },
  {
   "cell_type": "code",
   "execution_count": null,
   "metadata": {},
   "outputs": [],
   "source": []
  }
 ],
 "metadata": {
  "kernelspec": {
   "display_name": "Python 3",
   "language": "python",
   "name": "python3"
  },
  "language_info": {
   "codemirror_mode": {
    "name": "ipython",
    "version": 3
   },
   "file_extension": ".py",
   "mimetype": "text/x-python",
   "name": "python",
   "nbconvert_exporter": "python",
   "pygments_lexer": "ipython3",
   "version": "3.6.10"
  }
 },
 "nbformat": 4,
 "nbformat_minor": 4
}
