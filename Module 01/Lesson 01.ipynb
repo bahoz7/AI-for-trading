{
 "cells": [
  {
   "cell_type": "markdown",
   "metadata": {},
   "source": [
    "<h1 style=\"padding-top: 24pt; padding-bottom: 6pt; line-height: 1.15; orphans: 2; widows: 2; text-align: center\">\n",
    "    <span style=\"text-decoration: none; vertical-align: baseline; font-style: normal; color: #ff5722; font-weight: 700; font-size: 18pt; font-family: Courier New,Courier,Lucida Sans Typewriter,Lucida Typewriter,monospace\">Artificial Intelligence for Trading | Udacity</span>\n",
    "</h1>\n",
    "\n",
    "\n",
    "<p style=\"padding-top: 0pt; padding-bottom: 3pt; line-height: 1.15; page-break-after: avoid; orphans: 2; widows: 2; text-align: center\">\n",
    "    <span style=\"background-color: #c9daf8; color: #8e7cc3; font-weight: 400; text-decoration: none; vertical-align: baseline; font-size: 26pt; font-family: Courier New,Courier,Lucida Sans Typewriter,Lucida Typewriter,monospace; font-style: normal\">Stock Prices</span>\n",
    "</p>"
   ]
  },
  {
   "cell_type": "markdown",
   "metadata": {},
   "source": [
    "<h2 style=\"padding-top: 6pt; line-height: 1.1500000000000001; orphans: 2; widows: 2; text-align: left\">\n",
    "    <span style=\"font-size: 14pt; font-family: Courier New,Courier,Lucida Sans Typewriter,Lucida Typewriter,monospace; color: #00b050; font-weight: 700; text-decoration: none; vertical-align: baseline; font-style: normal\">Stock Prices:</span>\n",
    "</h2>\n",
    "\n",
    "<p style=\"padding-top: 6pt; padding-bottom: 6pt; line-height: 1.5; orphans: 2; widows: 2; text-align: left; margin-left: 54pt; text-indent: -18pt\">\n",
    "    <span style=\"font-size: 10pt\">&#9679;</span>\n",
    "    <span style=\"font-size: 12pt; font-family: Courier New,Courier,Lucida Sans Typewriter,Lucida Typewriter,monospace; font-weight: 400\">Shares, often called stocks or shares of stock and </span>\n",
    "    <span style=\"background-color: #cfe2f3; font-size: 12pt; font-family: Courier New,Courier,Lucida Sans Typewriter,Lucida Typewriter,monospace; font-weight: 700\">it represents fractional ownership in a company. or the equity ownership of a corporation divided up into units</span>\n",
    "    <span style=\"color: #000000; font-weight: 400; text-decoration: none; vertical-align: baseline; font-size: 12pt; font-family: Courier New,Courier,Lucida Sans Typewriter,Lucida Typewriter,monospace; font-style: normal\"> ,so that multiple people can own a percentage of a business.</span>\n",
    "</p>"
   ]
  },
  {
   "cell_type": "markdown",
   "metadata": {},
   "source": [
    "<h2 style=\"line-height: 1.1500000000000001; orphans: 2; widows: 2; text-align: left\">\n",
    "    <span style=\"font-size: 14pt; font-family: Courier New,Courier,Lucida Sans Typewriter,Lucida Typewriter,monospace; color: #00b050; font-weight: 700; text-decoration: none; vertical-align: baseline; font-style: normal\">Shareholder:</span>\n",
    "</h2>\n",
    "\n",
    "<p style=\"padding-top: 6pt; padding-bottom: 6pt; line-height: 1.5; orphans: 2; widows: 2; text-align: left; margin-left: 54pt; text-indent: -18pt\">\n",
    "            <span style=\"font-size: 10pt\">&#9679;</span>\n",
    "            <span style=\"font-family: Courier New,Courier,Lucida Sans Typewriter,Lucida Typewriter,monospace; font-size: 12pt; font-weight: 400; text-decoration: underline; text-decoration-skip-ink: none\">A shareholder,</span>\n",
    "            <span style=\"text-decoration: underline; text-decoration-skip-ink: none; font-size: 12pt; font-family: Courier New,Courier,Lucida Sans Typewriter,Lucida Typewriter,monospace; font-weight: 400\"> also referred to as a stockholder,</span>\n",
    "            <span style=\"font-family: Courier New,Courier,Lucida Sans Typewriter,Lucida Typewriter,monospace; background-color: #e6b8af\"> is a person, company, or institution that owns at least one share of a company&rsquo;s stock,</span>\n",
    "            <span style=\"background-color: #cfe2f3; font-size: 12pt; font-family: Courier New,Courier,Lucida Sans Typewriter,Lucida Typewriter,monospace; font-weight: 700\"> which is known as equity.</span>\n",
    "</p>"
   ]
  },
  {
   "cell_type": "markdown",
   "metadata": {},
   "source": [
    "<h2 style=\"line-height: 1.1500000000000001; orphans: 2; widows: 2; text-align: left\">\n",
    "    <span style=\"font-size: 14pt; font-family: Courier New,Courier,Lucida Sans Typewriter,Lucida Typewriter,monospace; color: #00b050; font-weight: 700; text-decoration: none; vertical-align: baseline; font-style: normal\">Equity:</span>\n",
    "</h2>\n",
    "\n",
    "<p style=\"font-family: Courier New,Courier,Lucida Sans Typewriter,Lucida Typewriter,monospace; padding-bottom: 6pt; line-height: 1.5; orphans: 2; widows: 2; text-align: left; margin-left: 54pt; text-indent: -18pt\">\n",
    "            <span style=\"font-size: 10pt\">&#9679;</span>\n",
    "    <span style=\"font-size: 12pt; font-weight: 400\">Equity is the value attributable to the owners of a business. </span>\n",
    "    <span style=\"font-size: 12pt; font-weight: 400; background-color: #e6b8af\">The book value of equity is calculated as the difference between </span>\n",
    "    <span style=\"font-size: 12pt; font-weight: 400; background-color: #e6b8af; color: #00b050\">assets </span>\n",
    "    <span style=\"font-size: 12pt; font-weight: 400; background-color: #e6b8af\">and </span>\n",
    "    <span style=\"font-size: 12pt; font-weight: 400; background-color: #e6b8af; color: #ff5722\">liabilities</span>\n",
    "    <span style=\"c21\"> on the company&rsquo;s balance sheet, while the market value of equity is based on the current share price (if public) or a value that is determined by investors or valuation professionals. </span>\n",
    "    <span style=\"color: #000000; font-weight: 400; text-decoration: none; vertical-align: baseline; font-size: 12pt; font-style: normal; background-color: #cfe2f3\">The account can also be called <strong>shareholders/owners/stockholders</strong> equity or net worth.</span>\n",
    "</p>"
   ]
  },
  {
   "cell_type": "markdown",
   "metadata": {},
   "source": [
    "<p style=\"font-family: Courier New,Courier,Lucida Sans Typewriter,Lucida Typewriter,monospace; font-size: 16pt; margin-left: 36pt; padding-top: 12pt; padding-bottom: 12pt; line-height: 1.15; orphans: 2; widows: 2; text-align: center\">\n",
    "    <span style=\"background-color: #674ea7; color: #efefef; font-weight: 700\">Shareholders&rsquo; Equity = </span>\n",
    "    <span style=\"background-color: #674ea7; font-weight: 700; color: #00ff00\">Total Assets </span>\n",
    "    <span style=\"background-color: #674ea7; color: #efefef; font-weight: 700\">&minus; </span>\n",
    "    <span style=\"background-color: #674ea7; font-weight: 700; text-decoration: none; vertical-align: baseline; font-style: normal; color: #ff0000\">Total Liabilities</span>\n",
    "</p>"
   ]
  },
  {
   "cell_type": "markdown",
   "metadata": {},
   "source": [
    "<h2 style=\"padding-bottom: 6pt; line-height: 1.1500000000000001; orphans: 2; widows: 2; text-align: left\">\n",
    "    <span style=\"text-decoration: none; vertical-align: baseline; font-style: normal; color: #00b050; font-weight: 700; font-size: 14pt; font-family: Courier New,Courier,Lucida Sans Typewriter,Lucida Typewriter,monospace\">Stock :</span>\n",
    "</h2>\n",
    "\n",
    "<ul style=\"padding: 0; margin: 0; start\">\n",
    "    <li style=\"margin-left: 20pt; padding-top: 0pt; padding-left: 0pt; padding-bottom: 0pt; line-height: 1.15; orphans: 2; widows: 2; text-align: left\">\n",
    "        <span style=\"color: #ff5722; font-weight: 700; text-decoration: none; vertical-align: baseline; font-size: 14pt; font-family: Courier New,Courier,Lucida Sans Typewriter,Lucida Typewriter,monospace; font-style: normal\">common stock: </span>\n",
    "    </li>\n",
    "</ul>\n",
    "\n",
    "<ul style=\"padding: 0; margin: 0; start\">\n",
    "    <li style=\"margin-left: 50pt; padding-top: 0pt; padding-left: 0pt; padding-bottom: 0pt; line-height: 1.5; orphans: 2; widows: 2; text-align: left\">\n",
    "        <span style=\"font-weight: 500; font-size: 10pt; font-family: Courier New,Courier,Lucida Sans Typewriter,Lucida Typewriter,monospace\">receive a portion of the company&#39;s profits as dividends if the company distributes them.</span>\n",
    "        <span style=\"font-size: 10pt;font-family: TimesNewRoman,Times New Roman,Times,Baskerville,Georgia,serif; font-weight: 400\"><strong>(A dividend is a payment made by a corporation to its investors, usually as a distribution of profits).</strong></span>\n",
    "    </li>\n",
    "    <li style=\"margin-left: 50pt; padding-top: 0pt; padding-left: 0pt; padding-bottom: 0pt; line-height: 1.5; orphans: 2; widows: 2; text-align: left\">\n",
    "        <span style=\"color: #000000; font-weight: 500; text-decoration: none; vertical-align: baseline; font-size: 10pt; font-family: Courier New,Courier,Lucida Sans Typewriter,Lucida Typewriter,monospace; font-style: normal\">Shareholders also get the right to vote on matters like who should be on the company&#39;s board of directors.</span>\n",
    "    </li>\n",
    "    <li style=\"margin-left: 50pt; padding-top: 0pt; padding-left: 0pt; padding-bottom: 0pt; line-height: 1.5; orphans: 2; widows: 2; text-align: left\">\n",
    "        <span style=\"color: #000000; font-weight: 500; text-decoration: none; vertical-align: baseline; font-size: 10pt; font-family: Courier New,Courier,Lucida Sans Typewriter,Lucida Typewriter,monospace; font-style: normal\">get a portion of the remaining assets after all other stakeholders are compensated (If the company is liquidated due to bankruptcy ). </span>\n",
    "    </li>\n",
    "</ul>\n",
    "\n",
    "\n",
    "\n",
    "<ul style=\"padding: 0; margin: 0; start\">\n",
    "    <li style=\"margin-left: 20pt; padding-top: 0pt; padding-left: 0pt; padding-bottom: 0pt; line-height: 1.15; orphans: 2; widows: 2; text-align: left\">\n",
    "        <span style=\"color: #ff5722; font-weight: 700; text-decoration: none; vertical-align: baseline; font-size: 14pt; font-family: Courier New,Courier,Lucida Sans Typewriter,Lucida Typewriter,monospace; font-style: normal\">preferred stock: </span>\n",
    "    </li>\n",
    "</ul>\n",
    "\n",
    "<ul style=\"padding: 0; margin: 0; start\">\n",
    "    <li style=\"margin-left: 50pt; padding-top: 0pt; padding-left: 0pt; padding-bottom: 0pt; line-height: 1.5; orphans: 2; widows: 2; text-align: left\">\n",
    "        <span style=\"font-weight: 500; font-size: 10pt; font-family: Courier New,Courier,Lucida Sans Typewriter,Lucida Typewriter,monospace\">they&#39;re promised a fixed amount of income each year.</span>\n",
    "    </li>\n",
    "    <li style=\"margin-left: 50pt; padding-top: 0pt; padding-left: 0pt; padding-bottom: 0pt; line-height: 1.5; orphans: 2; widows: 2; text-align: left\">\n",
    "        <span style=\"color: #000000; font-weight: 500; text-decoration: none; vertical-align: baseline; font-size: 10pt; font-family: Courier New,Courier,Lucida Sans Typewriter,Lucida Typewriter,monospace; font-style: normal\">get paid before owners of common stock get paid dividends.</span>\n",
    "    </li>\n",
    "    <li style=\"margin-left: 50pt; padding-top: 0pt; padding-left: 0pt; padding-bottom: 0pt; line-height: 1.5; orphans: 2; widows: 2; text-align: left\">\n",
    "        <span style=\"color: #000000; font-weight: 500; text-decoration: none; vertical-align: baseline; font-size: 10pt; font-family: Courier New,Courier,Lucida Sans Typewriter,Lucida Typewriter,monospace; font-style: normal\">they usually do not have voting rights.</span>\n",
    "    </li>\n",
    "</ul>\n"
   ]
  },
  {
   "cell_type": "markdown",
   "metadata": {},
   "source": [
    "<h2 style=\"padding-top: 6pt; padding-bottom: 3pt; line-height: 1.1500000000000001; orphans: 2; widows: 2; text-align: left\" id=\"h.63lkkfgv91o4\">\n",
    "    <span style=\"font-size: 14pt; font-family: Courier New,Courier,Lucida Sans Typewriter,Lucida Typewriter,monospace; color: #00b050; font-weight: 700\">Dividend: </span>\n",
    "    <span style=\"color: #000000; font-weight: 600; text-decoration: none; vertical-align: baseline; font-size: 11pt; font-family: Courier New,Courier,Lucida Sans Typewriter,Lucida Typewriter,monospace; font-style: normal\">A partial distribution of a company&#39;s profits to shareholders.</span>\n",
    "</h2>\n",
    "\n",
    "<h2 style=\"line-height: 1.1500000000000001; orphans: 2; widows: 2; text-align: left\" id=\"h.63lkkfgv91o4\">\n",
    "    <span style=\"font-size: 14pt; font-family: Courier New,Courier,Lucida Sans Typewriter,Lucida Typewriter,monospace; color: #00b050; font-weight: 700\">Capital Gains: </span>\n",
    "    <span style=\"color: #000000; font-weight: 600; text-decoration: none; vertical-align: baseline; font-size: 11pt; font-family: Courier New,Courier,Lucida Sans Typewriter,Lucida Typewriter,monospace; font-style: normal\">Profits that result from the sale of an asset at a price higher than the purchase price.</span>\n",
    "</h2>"
   ]
  },
  {
   "cell_type": "markdown",
   "metadata": {},
   "source": [
    "<h2 style=\"padding-top: 6pt; padding-bottom: 6pt; line-height: 1.5; orphans: 2; widows: 2; text-align: left\">\n",
    "    <span style=\"color: #00b050; font-weight: 700; font-size: 14pt; font-family: Courier New,Courier,Lucida Sans Typewriter,Lucida Typewriter,monospace\">Security: </span>\n",
    "    <span style=\"text-decoration: none; vertical-align: baseline; font-style: normal; color: #434343; font-weight: 700; font-size: 12pt; font-family: Courier New,Courier,Lucida Sans Typewriter,Lucida Typewriter,monospace\">A security is a financial instrument that has some type of monetary value ( stocks, bonds, and options ).</span>\n",
    "</h2>\n",
    "<p style=\"padding-top: 0pt; padding-bottom: 0pt; line-height: 1.5; orphans: 2; widows: 2; text-align: left\">\n",
    "    <span style=\"font-size: 12pt; font-family: Courier New,Courier,Lucida Sans Typewriter,Lucida Typewriter,monospace; font-weight: 700; background-color: #c9daf8; margin-left: 25pt; padding-left: 0pt\">Securities can be styleified into three broad types :</span>\n",
    "</p>\n",
    "<ul style=\"padding: 0; margin: 0\">\n",
    "    <li style=\"padding-top: 0pt; padding-bottom: 0pt; line-height: 1.5; orphans: 2; widows: 2; text-align: left; margin-left: 45pt; padding-left: 0pt\">\n",
    "        <span style=\"font-size: 14pt; font-family: Courier New,Courier,Lucida Sans Typewriter,Lucida Typewriter,monospace; color: #ff5722; font-weight: 700; background-color: #fff2cc\">debt securities:</span>\n",
    "    </li>\n",
    "</ul>\n",
    "\n",
    "<ul style=\"padding: 0; margin: 0\">\n",
    "    <li style=\"margin-left: 72pt; padding-top: 0pt; padding-left: 0pt; padding-bottom: 0pt; line-height: 1.5; orphans: 2; widows: 2; text-align: left\">\n",
    "        <span style=\"color: #000000; font-weight: 700; text-decoration: none; vertical-align: baseline; font-size: 12pt; font-family: Courier New,Courier,Lucida Sans Typewriter,Lucida Typewriter,monospace; font-style: normal\">represent money that is owed and must be repaid like government or corporate bonds or certificates of deposit.</span>\n",
    "    </li>\n",
    "    <li style=\"margin-left: 72pt; padding-top: 0pt; padding-left: 0pt; padding-bottom: 0pt; line-height: 1.5; orphans: 2; widows: 2; text-align: left\">\n",
    "        <span style=\"font-size: 12pt; font-family: Courier New,Courier,Lucida Sans Typewriter,Lucida Typewriter,monospace; font-weight: 700\">debt securities are also called </span>\n",
    "        <span style=\"background-color: #cfe2f3; font-size: 12pt; font-family: Courier New,Courier,Lucida Sans Typewriter,Lucida Typewriter,monospace; font-weight: 700\">&ldquo;fixed-income securities&rdquo;</span>\n",
    "        <span style=\"color: #000000; font-weight: 700; text-decoration: none; vertical-align: baseline; font-size: 12pt; font-family: Courier New,Courier,Lucida Sans Typewriter,Lucida Typewriter,monospace; font-style: normal\"> because they promise a stream of income over time in the form of interest either at a fixed rate or at a rate determined by a specific formula.</span>\n",
    "    </li>\n",
    "</ul>"
   ]
  },
  {
   "cell_type": "markdown",
   "metadata": {},
   "source": [
    "<ul style=\"padding: 0; margin: 0\">\n",
    "    <li style=\"padding-top: 0pt; padding-bottom: 0pt; line-height: 1.5; orphans: 2; widows: 2; text-align: left; margin-left: 45pt; padding-left: 0pt\">\n",
    "        <span style=\"font-size: 14pt; font-family: Courier New,Courier,Lucida Sans Typewriter,Lucida Typewriter,monospace; color: #ff5722; font-weight: 700; background-color: #fff2cc\">derivative securities:</span>\n",
    "        <span style=\"color: #000000; font-weight: 700; text-decoration: none; vertical-align: baseline; font-size: 12pt; font-family: Courier New,Courier,Lucida Sans Typewriter,Lucida Typewriter,monospace; font-style: normal\">such as options or futures contracts are so-named because their values depend on the prices of other assets. </span>\n",
    "    </li>\n",
    "</ul>\n",
    "\n",
    "<ul style=\"padding: 0; margin: 0\">\n",
    "    <li style=\"margin-left: 72pt; padding-top: 0pt; padding-left: 0pt; padding-bottom: 0pt; line-height: 1.5; orphans: 2; widows: 2; text-align: left\">\n",
    "        <span style=\"font-size: 12pt; font-family: Courier New,Courier,Lucida Sans Typewriter,Lucida Typewriter,monospace; font-weight: 700\">an </span>\n",
    "        <span style=\"background-color: #cfe2f3; font-size: 12pt; font-family: Courier New,Courier,Lucida Sans Typewriter,Lucida Typewriter,monospace; font-weight: 700\">option</span>\n",
    "        <span style=\"color: #000000; font-weight: 700; text-decoration: none; vertical-align: baseline; font-size: 12pt; font-family: Courier New,Courier,Lucida Sans Typewriter,Lucida Typewriter,monospace; font-style: normal\"> is a contract which gives the buyer the right but not the obligation to buy or sell an underlying asset at a specified price on a specified date.</span>\n",
    "    </li>\n",
    "    <ul style=\"padding: 0; margin: 0\">\n",
    "        <li style=\"margin-left: 108pt; padding-top: 0pt; padding-left: 0pt; padding-bottom: 0pt; line-height: 1.5; orphans: 2; widows: 2; text-align: left; font-family: Courier New,Courier,Lucida Sans Typewriter,Lucida Typewriter,monospace\">\n",
    "            <span style=\"font-size: 10pt; font-weight: 500\">An example of an option contract would be employee </span>\n",
    "            <span style=\"font-size: 12pt; font-weight: 700\">stock options</span>\n",
    "            <span style=\"color: #000000; font-weight: 500; text-decoration: none; vertical-align: baseline; font-size: 10pt; font-style: normal\">. As part of employee incentive programs, employers frequently offer employees the option to buy companies stock at a lower price called the strike price, and later sell it on the open market to make a profit.</span>\n",
    "        </li>\n",
    "    </ul>\n",
    "    <li style=\"margin-left: 72pt; padding-top: 0pt; padding-left: 0pt; padding-bottom: 0pt; line-height: 1.5; orphans: 2; widows: 2; text-align: left\">\n",
    "        <span style=\"font-size: 12pt; font-family: Courier New,Courier,Lucida Sans Typewriter,Lucida Typewriter,monospace; font-weight: 700\">a </span>\n",
    "        <span style=\"background-color: #cfe2f3; font-size: 12pt; font-family: Courier New,Courier,Lucida Sans Typewriter,Lucida Typewriter,monospace; font-weight: 700\">futures contract</span>\n",
    "        <span style=\"color: #000000; font-weight: 700; text-decoration: none; vertical-align: baseline; font-size: 12pt; font-family: Courier New,Courier,Lucida Sans Typewriter,Lucida Typewriter,monospace; font-style: normal\"> obligates the buyer to buy or the seller to sell an asset at a predetermined price at a specified time in the future.</span>\n",
    "    </li>\n",
    "    <ul style=\"padding: 0; margin: 0\">\n",
    "        <li style=\"margin-left: 108pt; padding-top: 0pt; padding-left: 0pt; padding-bottom: 0pt; line-height: 1.5; orphans: 2; widows: 2; text-align: left; font-family: Courier New,Courier,Lucida Sans Typewriter,Lucida Typewriter,monospace\">\n",
    "            <span style=\"font-size: 10pt; font-weight: 500\">For example, say, a dairy farmer concurrently sell milk for 2€ a gallon. Next month, he plans to sell 200€ gallons of milk, but he&#39;s concerned that fluctuations in the market price for milk will erode his profits. So he enters into a futures contract with an investor. By doing so, he is obligated to sell 200 gallons of milk on the agreed date, but he&#39;s guaranteed to receive 400€ regardless of the market price of milk at that time. This type of agreement would protect him from the risk of catastrophic loss if the price of milk tanks, but will also limit his ability to profit if the price of milk rises.</span>\n",
    "        </li>\n",
    "    </ul>\n",
    "</ul>"
   ]
  },
  {
   "cell_type": "markdown",
   "metadata": {},
   "source": [
    "<ul style=\"padding: 0; margin: 0\">\n",
    "    <li style=\"padding-top: 0pt; padding-bottom: 0pt; line-height: 1.5; orphans: 2; widows: 2; text-align: left; margin-left: 45pt; padding-left: 0pt\">\n",
    "        <span style=\"font-size: 14pt; font-family: Courier New,Courier,Lucida Sans Typewriter,Lucida Typewriter,monospace; color: #ff5722; font-weight: 700; background-color: #fff2cc\">equity securities:</span>\n",
    "        <span style=\"color: #000000; font-weight: 700; text-decoration: none; vertical-align: baseline; font-size: 12pt; font-family: Courier New,Courier,Lucida Sans Typewriter,Lucida Typewriter,monospace; font-style: normal\">Let&#39;s break that phrase down. </span>\n",
    "    </li>\n",
    "</ul>\n",
    "\n",
    "<ul style=\"padding: 0; margin: 0\">\n",
    "    <li style=\"margin-left: 72pt; padding-top: 0pt; padding-left: 0pt; padding-bottom: 0pt; line-height: 1.5; orphans: 2; widows: 2; text-align: left\">\n",
    "        <span style=\"color: #000000; font-weight: 700; text-decoration: none; vertical-align: baseline; font-size: 12pt; font-family: Courier New,Courier,Lucida Sans Typewriter,Lucida Typewriter,monospace; font-style: normal\">is the value of an owned asset minus the amount of all debts or liabilities on that asset, in general, you can think of equity as <u>the net value of something owned.</u>(see above).</span>\n",
    "    </li>\n",
    "    <ul style=\"padding: 0; margin: 0\">\n",
    "        <li style=\"margin-left: 108pt; padding-top: 0pt; padding-left: 0pt; padding-bottom: 0pt; line-height: 1.5; orphans: 2; widows: 2; text-align: left; font-family: Courier New,Courier,Lucida Sans Typewriter,Lucida Typewriter,monospace\">\n",
    "            <span style=\"font-size: 10pt; font-weight: 500\">For example, if you own a 15,000€ car, but you owe a 5,000€ loan against it, the car represents 10,000€ of equity.</span>\n",
    "        </li>\n",
    "    </ul>\n",
    "    <li style=\"margin-left: 72pt; padding-top: 0pt; padding-left: 0pt; padding-bottom: 0pt; line-height: 1.5; orphans: 2; widows: 2; text-align: left\">\n",
    "        <span style=\"color: #000000; font-weight: 700; text-decoration: none; vertical-align: baseline; font-size: 12pt; font-family: Courier New,Courier,Lucida Sans Typewriter,Lucida Typewriter,monospace; font-style: normal\">Stocks are called equity securities because they represent ownership in a firm.</span>\n",
    "    </li>\n",
    "</ul>"
   ]
  },
  {
   "cell_type": "markdown",
   "metadata": {},
   "source": [
    "<p style=\"padding-top: 0pt; padding-bottom: 0pt; line-height: 1.5; orphans: 2; widows: 2; text-align: left\">\n",
    "            <span style=\"font-size: 12pt; font-family: Courier New,Courier,Lucida Sans Typewriter,Lucida Typewriter,monospace; font-weight: 500\">When a company first begins trading publicly it typically picks a value for its stock based on certain company metrics like </span>\n",
    "            <span style=\"background-color: #cfe2f3; font-size: 12pt; font-family: Courier New,Courier,Lucida Sans Typewriter,Lucida Typewriter,monospace; font-weight: 500\">revenue, profits, assets</span>\n",
    "            <span style=\"font-size: 12pt; font-family: Courier New,Courier,Lucida Sans Typewriter,Lucida Typewriter,monospace; font-weight: 500; text-decoration: none; vertical-align: baseline; font-style: normal\"> etc. But from that point on, it&#39;s stock prices almost entirely driven by how much demand exists for its stock.</span>\n",
    "        </p>"
   ]
  },
  {
   "cell_type": "markdown",
   "metadata": {},
   "source": [
    "<p style=\"padding-top: 0pt; padding-bottom: 0pt; line-height: 1.5; orphans: 2; widows: 2; text-align: left\">\n",
    "    <span style=\"font-weight: 500; text-decoration: none; vertical-align: baseline; font-size: 12pt; font-family: Courier New,Courier,Lucida Sans Typewriter,Lucida Typewriter,monospace; font-style: normal; background-color: #e6b8af\">But how do we quantify demand?</span>\n",
    "</p>\n",
    "\n",
    "<ul style=\"padding: 0; margin: 0\">\n",
    "    <li style=\"margin-left: 72pt; padding-top: 0pt; padding-left: 0pt; padding-bottom: 0pt; line-height: 1.5; orphans: 2; widows: 2; text-align: left\">\n",
    "        <span style=\"color: #000000; font-weight: 500; text-decoration: none; vertical-align: baseline; font-size: 12pt; font-family: Courier New,Courier,Lucida Sans Typewriter,Lucida Typewriter,monospace; font-style: normal\">Demand is nothing but <u>how many people want to own some stock, or how much money they&#39;re willing to pay for it.</u></span>\n",
    "    </li>\n",
    "    <li style=\"margin-left: 72pt; padding-top: 0pt; padding-left: 0pt; padding-bottom: 0pt; line-height: 1.5; orphans: 2; widows: 2; text-align: left\">\n",
    "        <span style=\"color: #000000; font-weight: 500; text-decoration: none; vertical-align: baseline; font-size: 12pt; font-family: Courier New,Courier,Lucida Sans Typewriter,Lucida Typewriter,monospace; font-style: normal\">In market speak you want to see <u>how many orders people are placing for it and at what price.</u></span>\n",
    "    </li>\n",
    "</ul>"
   ]
  },
  {
   "cell_type": "code",
   "execution_count": null,
   "metadata": {},
   "outputs": [],
   "source": []
  }
 ],
 "metadata": {
  "kernelspec": {
   "display_name": "Python 3",
   "language": "python",
   "name": "python3"
  },
  "language_info": {
   "codemirror_mode": {
    "name": "ipython",
    "version": 3
   },
   "file_extension": ".py",
   "mimetype": "text/x-python",
   "name": "python",
   "nbconvert_exporter": "python",
   "pygments_lexer": "ipython3",
   "version": "3.7.6"
  }
 },
 "nbformat": 4,
 "nbformat_minor": 4
}
